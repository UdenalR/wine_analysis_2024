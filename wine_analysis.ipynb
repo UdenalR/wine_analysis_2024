{
 "cells": [
  {
   "cell_type": "markdown",
   "metadata": {},
   "source": [
    "<h1><p style=\"text-align:center;\">Red Wine Quality </p></h1>"
   ]
  },
  {
   "cell_type": "markdown",
   "metadata": {},
   "source": [
    "Sobre o conjunto de dados\n",
    "Contexto\n",
    "Os dois conjuntos de dados estão relacionados com variantes tinto e branco do vinho português “Vinho Verde”. Para mais detalhes consulte a referência [Cortez et al., 2009]. Devido a questões de privacidade e logística, apenas estão disponíveis variáveis ​​físico-químicas (entradas) e sensoriais (saída) (por exemplo, não existem dados sobre tipos de uva, marca do vinho, preço de venda do vinho, etc.)."
   ]
  },
  {
   "cell_type": "markdown",
   "metadata": {},
   "source": [
    "#### importando as bibliotecas"
   ]
  },
  {
   "cell_type": "code",
   "execution_count": 1,
   "metadata": {},
   "outputs": [],
   "source": [
    "import pandas as pd"
   ]
  },
  {
   "cell_type": "markdown",
   "metadata": {},
   "source": [
    "#### Construindo e lendo o caminho para o arquivo CSV"
   ]
  },
  {
   "cell_type": "code",
   "execution_count": 3,
   "metadata": {},
   "outputs": [],
   "source": [
    "#camiho dos dados\n",
    "caminho_arquivo = r'dados\\winequality-red.csv'\n",
    "# Carregar o arquivo CSV em um dataframe pandas\n",
    "dataframe = pd.read_csv(caminho_arquivo)"
   ]
  },
  {
   "cell_type": "markdown",
   "metadata": {},
   "source": [
    "#### Tratamento e descrição dos dados"
   ]
  },
  {
   "cell_type": "code",
   "execution_count": 6,
   "metadata": {},
   "outputs": [],
   "source": [
    "dataframe = pd.read_csv(caminho_arquivo, sep=';')  # Carregar o arquivo CSV em um dataframe pandas com ponto e vírgula como separador\n",
    "dataframe.columns = dataframe.columns.str.strip()  # Remove espaços em branco no início e no final dos nomes das colunas\n",
    "dataframe.columns = dataframe.columns.str.lower()  # Converte os nomes das colunas para minúsculas"
   ]
  },
  {
   "cell_type": "code",
   "execution_count": 7,
   "metadata": {},
   "outputs": [
    {
     "name": "stdout",
     "output_type": "stream",
     "text": [
      "   fixed acidity  volatile acidity  citric acid  residual sugar  chlorides  \\\n",
      "0            7.4              0.70         0.00             1.9      0.076   \n",
      "1            7.8              0.88         0.00             2.6      0.098   \n",
      "2            7.8              0.76         0.04             2.3      0.092   \n",
      "3           11.2              0.28         0.56             1.9      0.075   \n",
      "4            7.4              0.70         0.00             1.9      0.076   \n",
      "\n",
      "   free sulfur dioxide  total sulfur dioxide  density    ph  sulphates  \\\n",
      "0                 11.0                  34.0   0.9978  3.51       0.56   \n",
      "1                 25.0                  67.0   0.9968  3.20       0.68   \n",
      "2                 15.0                  54.0   0.9970  3.26       0.65   \n",
      "3                 17.0                  60.0   0.9980  3.16       0.58   \n",
      "4                 11.0                  34.0   0.9978  3.51       0.56   \n",
      "\n",
      "   alcohol  quality  \n",
      "0      9.4        5  \n",
      "1      9.8        5  \n",
      "2      9.8        5  \n",
      "3      9.8        6  \n",
      "4      9.4        5  \n"
     ]
    }
   ],
   "source": [
    "# Exibir o cabeçalho do dataframe (os nomes das colunas)\n",
    "print(dataframe.head())"
   ]
  },
  {
   "cell_type": "code",
   "execution_count": 8,
   "metadata": {},
   "outputs": [
    {
     "name": "stdout",
     "output_type": "stream",
     "text": [
      "Index(['fixed acidity', 'volatile acidity', 'citric acid', 'residual sugar',\n",
      "       'chlorides', 'free sulfur dioxide', 'total sulfur dioxide', 'density',\n",
      "       'ph', 'sulphates', 'alcohol', 'quality'],\n",
      "      dtype='object')\n"
     ]
    }
   ],
   "source": [
    "# primeiras linhas do DataFrame\n",
    "print(dataframe.columns)"
   ]
  },
  {
   "cell_type": "code",
   "execution_count": 9,
   "metadata": {},
   "outputs": [
    {
     "name": "stdout",
     "output_type": "stream",
     "text": [
      "<class 'pandas.core.frame.DataFrame'>\n",
      "RangeIndex: 1599 entries, 0 to 1598\n",
      "Data columns (total 12 columns):\n",
      " #   Column                Non-Null Count  Dtype  \n",
      "---  ------                --------------  -----  \n",
      " 0   fixed acidity         1599 non-null   float64\n",
      " 1   volatile acidity      1599 non-null   float64\n",
      " 2   citric acid           1599 non-null   float64\n",
      " 3   residual sugar        1599 non-null   float64\n",
      " 4   chlorides             1599 non-null   float64\n",
      " 5   free sulfur dioxide   1599 non-null   float64\n",
      " 6   total sulfur dioxide  1599 non-null   float64\n",
      " 7   density               1599 non-null   float64\n",
      " 8   ph                    1599 non-null   float64\n",
      " 9   sulphates             1599 non-null   float64\n",
      " 10  alcohol               1599 non-null   float64\n",
      " 11  quality               1599 non-null   int64  \n",
      "dtypes: float64(11), int64(1)\n",
      "memory usage: 150.0 KB\n",
      "None\n"
     ]
    }
   ],
   "source": [
    "# Informações sobre o datafram\n",
    "print(dataframe.info())"
   ]
  },
  {
   "cell_type": "code",
   "execution_count": 10,
   "metadata": {},
   "outputs": [
    {
     "name": "stdout",
     "output_type": "stream",
     "text": [
      "       fixed acidity  volatile acidity  citric acid  residual sugar  \\\n",
      "count    1599.000000       1599.000000  1599.000000     1599.000000   \n",
      "mean        8.319637          0.527821     0.270976        2.538806   \n",
      "std         1.741096          0.179060     0.194801        1.409928   \n",
      "min         4.600000          0.120000     0.000000        0.900000   \n",
      "25%         7.100000          0.390000     0.090000        1.900000   \n",
      "50%         7.900000          0.520000     0.260000        2.200000   \n",
      "75%         9.200000          0.640000     0.420000        2.600000   \n",
      "max        15.900000          1.580000     1.000000       15.500000   \n",
      "\n",
      "         chlorides  free sulfur dioxide  total sulfur dioxide      density  \\\n",
      "count  1599.000000          1599.000000           1599.000000  1599.000000   \n",
      "mean      0.087467            15.874922             46.467792     0.996747   \n",
      "std       0.047065            10.460157             32.895324     0.001887   \n",
      "min       0.012000             1.000000              6.000000     0.990070   \n",
      "25%       0.070000             7.000000             22.000000     0.995600   \n",
      "50%       0.079000            14.000000             38.000000     0.996750   \n",
      "75%       0.090000            21.000000             62.000000     0.997835   \n",
      "max       0.611000            72.000000            289.000000     1.003690   \n",
      "\n",
      "                ph    sulphates      alcohol      quality  \n",
      "count  1599.000000  1599.000000  1599.000000  1599.000000  \n",
      "mean      3.311113     0.658149    10.422983     5.636023  \n",
      "std       0.154386     0.169507     1.065668     0.807569  \n",
      "min       2.740000     0.330000     8.400000     3.000000  \n",
      "25%       3.210000     0.550000     9.500000     5.000000  \n",
      "50%       3.310000     0.620000    10.200000     6.000000  \n",
      "75%       3.400000     0.730000    11.100000     6.000000  \n",
      "max       4.010000     2.000000    14.900000     8.000000  \n"
     ]
    }
   ],
   "source": [
    "# Estatísticas descritivas para colunas numéricas\n",
    "print(dataframe.describe())"
   ]
  },
  {
   "cell_type": "code",
   "execution_count": 11,
   "metadata": {},
   "outputs": [
    {
     "name": "stdout",
     "output_type": "stream",
     "text": [
      "fixed acidity           0\n",
      "volatile acidity        0\n",
      "citric acid             0\n",
      "residual sugar          0\n",
      "chlorides               0\n",
      "free sulfur dioxide     0\n",
      "total sulfur dioxide    0\n",
      "density                 0\n",
      "ph                      0\n",
      "sulphates               0\n",
      "alcohol                 0\n",
      "quality                 0\n",
      "dtype: int64\n"
     ]
    }
   ],
   "source": [
    "# Verificar dados faltantes\n",
    "print(dataframe.isnull().sum())"
   ]
  },
  {
   "cell_type": "code",
   "execution_count": 12,
   "metadata": {},
   "outputs": [
    {
     "name": "stdout",
     "output_type": "stream",
     "text": [
      "[5 6 7 4 8 3]\n"
     ]
    }
   ],
   "source": [
    "# Exibir os valores únicos na coluna 'quality'\n",
    "print(dataframe['quality'].unique())"
   ]
  },
  {
   "cell_type": "code",
   "execution_count": 13,
   "metadata": {},
   "outputs": [
    {
     "name": "stdout",
     "output_type": "stream",
     "text": [
      "Média de cada coluna:\n",
      "fixed acidity            8.319637\n",
      "volatile acidity         0.527821\n",
      "citric acid              0.270976\n",
      "residual sugar           2.538806\n",
      "chlorides                0.087467\n",
      "free sulfur dioxide     15.874922\n",
      "total sulfur dioxide    46.467792\n",
      "density                  0.996747\n",
      "ph                       3.311113\n",
      "sulphates                0.658149\n",
      "alcohol                 10.422983\n",
      "quality                  5.636023\n",
      "dtype: float64\n"
     ]
    }
   ],
   "source": [
    "# Printar a média de cada coluna\n",
    "media_por_coluna = dataframe.mean()\n",
    "\n",
    "print(\"Média de cada coluna:\")\n",
    "print(media_por_coluna)"
   ]
  },
  {
   "cell_type": "code",
   "execution_count": 14,
   "metadata": {},
   "outputs": [],
   "source": [
    "# Resumo Estatístico (Mínimo, Máximo e Média):\n",
    "summary = pd.DataFrame({\n",
    "    'max': dataframe.max(),\n",
    "    'min': dataframe.min(),\n",
    "    'mean': dataframe.mean()\n",
    "})"
   ]
  },
  {
   "cell_type": "code",
   "execution_count": 16,
   "metadata": {},
   "outputs": [
    {
     "name": "stdout",
     "output_type": "stream",
     "text": [
      "                            max      min       mean\n",
      "fixed acidity          15.90000  4.60000   8.319637\n",
      "volatile acidity        1.58000  0.12000   0.527821\n",
      "citric acid             1.00000  0.00000   0.270976\n",
      "residual sugar         15.50000  0.90000   2.538806\n",
      "chlorides               0.61100  0.01200   0.087467\n",
      "free sulfur dioxide    72.00000  1.00000  15.874922\n",
      "total sulfur dioxide  289.00000  6.00000  46.467792\n",
      "density                 1.00369  0.99007   0.996747\n",
      "pH                      4.01000  2.74000   3.311113\n",
      "sulphates               2.00000  0.33000   0.658149\n",
      "alcohol                14.90000  8.40000  10.422983\n",
      "quality                 8.00000  3.00000   5.636023\n"
     ]
    }
   ],
   "source": [
    "# Renomear os índices\n",
    "summary.index = [\n",
    "    'fixed acidity',\n",
    "    'volatile acidity',\n",
    "    'citric acid',\n",
    "    'residual sugar',\n",
    "    'chlorides',\n",
    "    'free sulfur dioxide',\n",
    "    'total sulfur dioxide',\n",
    "    'density',\n",
    "    'pH',\n",
    "    'sulphates',\n",
    "    'alcohol',\n",
    "    'quality'\n",
    "]\n",
    "# Exibir a tabela resumo\n",
    "print(summary)"
   ]
  },
  {
   "cell_type": "code",
   "execution_count": 17,
   "metadata": {},
   "outputs": [],
   "source": [
    "# Calcular o IQR para cada coluna numérica\n",
    "Q1 = dataframe.quantile(0.25)\n",
    "Q3 = dataframe.quantile(0.75)\n",
    "IQR = Q3 - Q1"
   ]
  },
  {
   "cell_type": "code",
   "execution_count": 18,
   "metadata": {},
   "outputs": [],
   "source": [
    "# Definir os limites para identificar outliers\n",
    "limite_inferior = Q1 - 1.5 * IQR\n",
    "limite_superior = Q3 + 1.5 * IQR\n",
    "\n",
    "# Definir os limites para identificar outliers\n",
    "limite_inferior = Q1 - 1.5 * IQR\n",
    "limite_superior = Q3 + 1.5 * IQR"
   ]
  },
  {
   "cell_type": "code",
   "execution_count": 19,
   "metadata": {},
   "outputs": [
    {
     "name": "stdout",
     "output_type": "stream",
     "text": [
      "Shape do dataframe original: (1599, 12)\n",
      "Shape do dataframe sem outliers: (1179, 12)\n"
     ]
    }
   ],
   "source": [
    "# Remover outliers\n",
    "sem_outliers = dataframe[~((dataframe < limite_inferior) | (dataframe > limite_superior)).any(axis=1)]\n",
    "\n",
    "# Exibir o novo shape do dataframe após a remoção de outliers\n",
    "print(\"Shape do dataframe original:\", dataframe.shape)\n",
    "print(\"Shape do dataframe sem outliers:\", sem_outliers.shape)"
   ]
  },
  {
   "cell_type": "code",
   "execution_count": 20,
   "metadata": {},
   "outputs": [],
   "source": [
    "# Identificar outliers\n",
    "outliers = ((dataframe < limite_inferior) | (dataframe > limite_superior))\n",
    "\n",
    "# Adicionar uma coluna indicando se cada entrada é um outlier ou não\n",
    "dataframe['outlier'] = outliers.any(axis=1)"
   ]
  },
  {
   "cell_type": "code",
   "execution_count": 21,
   "metadata": {},
   "outputs": [],
   "source": [
    "# Filtrar linhas que contêm outliers e salvá-las em um arquivo CSV\n",
    "outliers_table = dataframe[dataframe['outlier']]\n",
    "outliers_table.to_csv('dados\\outliers.csv', index=False)\n",
    "\n",
    "# Filtrar linhas que não contêm outliers e salvá-las em um arquivo CSV\n",
    "sem_outliers_table = dataframe[~dataframe['outlier']]\n",
    "sem_outliers_table.to_csv('dados\\sem_outliers.csv', index=False)"
   ]
  },
  {
   "cell_type": "markdown",
   "metadata": {},
   "source": [
    "\n",
    "O parâmetro que representa a acidez no gosto de um vinho é a 'volatile acidity' (acidez volátil).\n",
    "A 'volatile acidity' se refere à quantidade de ácido acético no vinho, que pode contribuir para uma sensação de acidez ou \"azedume\" na degustação.\n"
   ]
  },
  {
   "cell_type": "code",
   "execution_count": 22,
   "metadata": {},
   "outputs": [],
   "source": [
    "# importando bibliotecas\n",
    "import matplotlib.pyplot as plt\n",
    "import seaborn as sns\n",
    "import numpy as np"
   ]
  },
  {
   "cell_type": "markdown",
   "metadata": {},
   "source": [
    "#### Calculando o histograma"
   ]
  },
  {
   "cell_type": "code",
   "execution_count": 32,
   "metadata": {},
   "outputs": [],
   "source": [
    "# Selecionar as colunas 'volatile acidity' e 'type' para o histograma\n",
    "acidez = sem_outliers_table['volatile acidity']"
   ]
  },
  {
   "cell_type": "code",
   "execution_count": 46,
   "metadata": {},
   "outputs": [
    {
     "data": {
      "image/png": "[encoded data removed]",
      "text/plain": [
       "<Figure size 1000x600 with 1 Axes>"
      ]
     },
     "metadata": {},
     "output_type": "display_data"
    }
   ],
   "source": [
    "# Calculando o histograma\n",
    "plt.figure(figsize=(10, 6))\n",
    "n, bins, _ = plt.hist(acidez, bins=30, edgecolor='black', alpha=0.75)\n",
    "\n",
    "# Mapeando os valores de acidez para o colormap\n",
    "valor_minimo = min(acidez)\n",
    "valor_maximo = max(acidez)\n",
    "\n",
    "# Função para mapear valores de acidez para cores\n",
    "def mapa_cores(valor):\n",
    "    proporcao = (valor - valor_minimo) / (valor_maximo - valor_minimo)\n",
    "    return 1 - proporcao  # Invertendo a proporção para obter o efeito desejado\n",
    "\n",
    "# Adicionando um gradiente de cores com base nos valores de acidez\n",
    "for i, p in enumerate(plt.gca().patches):\n",
    "    valor_acidez = (p.get_x() + p.get_width()) / 0.9  # Calculando o valor de acidez para o retângulo\n",
    "    cor = plt.cm.RdYlBu(mapa_cores(valor_acidez))\n",
    "    plt.setp(p, 'facecolor', cor)\n",
    "\n",
    "# Configurações do gráfico\n",
    "plt.title('Distribuição do Grau de Acidez pela taxa de Acidez Volátil', color='black')\n",
    "plt.xlabel('Volatile Acidity', color='black')\n",
    "plt.ylabel('Frequência', color='black')\n",
    "plt.grid(True, color='none', zorder=0)  # Define a grade atrás do histograma\n",
    "plt.gca().set_facecolor('white')\n",
    "plt.gca().spines['bottom'].set_color('black')\n",
    "plt.gca().spines['top'].set_color('black')\n",
    "plt.gca().spines['left'].set_color('black')\n",
    "plt.gca().spines['right'].set_color('black')\n",
    "plt.xticks(color='black')\n",
    "plt.yticks(color='black')\n",
    "plt.show()\n"
   ]
  },
  {
   "cell_type": "markdown",
   "metadata": {},
   "source": [
    "#### Gráfico para Sulphates"
   ]
  },
  {
   "cell_type": "code",
   "execution_count": 49,
   "metadata": {},
   "outputs": [
    {
     "data": {
      "image/png": "[encoded data removed]",
      "text/plain": [
       "<Figure size 1000x600 with 1 Axes>"
      ]
     },
     "metadata": {},
     "output_type": "display_data"
    }
   ],
   "source": [
    "# Dados\n",
    "sulphates = sem_outliers_table['sulphates']\n",
    "chlorides = sem_outliers_table['chlorides']\n",
    "\n",
    "# Configurações do gráfico para Sulphates\n",
    "plt.figure(figsize=(10, 6))\n",
    "\n",
    "# Calculando o histograma para Sulphates\n",
    "n_sulphates, bins_sulphates, _ = plt.hist(sulphates, bins=30, edgecolor='black', alpha=0.75)\n",
    "\n",
    "# Mapeando os valores de sulphates para o colormap\n",
    "valor_minimo_sulphates = min(sulphates)\n",
    "valor_maximo_sulphates = max(sulphates)\n",
    "\n",
    "# Função para mapear valores de sulphates para cores\n",
    "def mapa_cores_sulphates(valor):\n",
    "    proporcao = (valor - valor_minimo_sulphates) / (valor_maximo_sulphates - valor_minimo_sulphates)\n",
    "    return 1 - proporcao  # Invertendo a proporção para obter o efeito desejado\n",
    "\n",
    "# Adicionando um gradiente de cores com base nos valores de sulphates\n",
    "for i, p in enumerate(plt.gca().patches):\n",
    "    valor_sulphates = (p.get_x() + p.get_width()) / 0.9  # Calculando o valor de sulphates para o retângulo\n",
    "    cor_sulphates = plt.cm.YlGn(mapa_cores_sulphates(valor_sulphates))\n",
    "    plt.setp(p, 'facecolor', cor_sulphates)\n",
    "\n",
    "# Configurações do gráfico para Sulphates\n",
    "plt.title('Distribuição do Grau de Amargor pelo teor de Sulfatos', color='black')\n",
    "plt.xlabel('Sulphates', color='black')\n",
    "plt.ylabel('Frequência', color='black')\n",
    "plt.grid(True, color='none', zorder=0)  # Define a grade atrás do histograma\n",
    "plt.gca().set_facecolor('white')\n",
    "plt.gca().spines['bottom'].set_color('black')\n",
    "plt.gca().spines['top'].set_color('black')\n",
    "plt.gca().spines['left'].set_color('black')\n",
    "plt.gca().spines['right'].set_color('black')\n",
    "plt.xticks(color='black')\n",
    "plt.yticks(color='black')\n",
    "\n",
    "# Exibição do gráfico Sulphates\n",
    "plt.show()"
   ]
  },
  {
   "cell_type": "markdown",
   "metadata": {},
   "source": [
    "#### Gráfico Chlorides"
   ]
  },
  {
   "cell_type": "code",
   "execution_count": 51,
   "metadata": {},
   "outputs": [
    {
     "data": {
      "image/png": "[encoded data removed]",
      "text/plain": [
       "<Figure size 1000x600 with 1 Axes>"
      ]
     },
     "metadata": {},
     "output_type": "display_data"
    }
   ],
   "source": [
    "# Configurações do gráfico para Chlorides\n",
    "plt.figure(figsize=(10, 6))\n",
    "\n",
    "# Calculando o histograma para Chlorides\n",
    "n_chlorides, bins_chlorides, _ = plt.hist(chlorides, bins=30, edgecolor='black', alpha=0.75)\n",
    "\n",
    "# Mapeando os valores de chlorides para o colormap\n",
    "valor_minimo_chlorides = min(chlorides)\n",
    "valor_maximo_chlorides = max(chlorides)\n",
    "\n",
    "# Função para mapear valores de chlorides para cores\n",
    "def mapa_cores_chlorides(valor):\n",
    "    proporcao = (valor - valor_minimo_chlorides) / (valor_maximo_chlorides - valor_minimo_chlorides)\n",
    "    return 1 - proporcao  # Invertendo a proporção para obter o efeito desejado\n",
    "\n",
    "# Adicionando um gradiente de cores com base nos valores de chlorides\n",
    "for i, p in enumerate(plt.gca().patches):\n",
    "    valor_chlorides = (p.get_x() + p.get_width()) / 0.9  # Calculando o valor de chlorides para o retângulo\n",
    "    cor_chlorides = plt.cm.YlGn(mapa_cores_chlorides(valor_chlorides))\n",
    "    plt.setp(p, 'facecolor', cor_chlorides)\n",
    "\n",
    "# Configurações do gráfico para Chlorides\n",
    "plt.title('Distribuição do Grau de Amargor pelo teor de Cloretos', color='black')\n",
    "plt.xlabel('Chlorides', color='black')\n",
    "plt.ylabel('Frequência', color='black')\n",
    "plt.grid(True, color='none', zorder=0)  # Define a grade atrás do histograma\n",
    "plt.gca().set_facecolor('white')\n",
    "plt.gca().spines['bottom'].set_color('black')\n",
    "plt.gca().spines['top'].set_color('black')\n",
    "plt.gca().spines['left'].set_color('black')\n",
    "plt.gca().spines['right'].set_color('black')\n",
    "plt.xticks(color='black')\n",
    "plt.yticks(color='black')\n",
    "\n",
    "# Exibição do gráfico Chlorides\n",
    "plt.show()"
   ]
  }
 ],
 "metadata": {
  "kernelspec": {
   "display_name": "Python 3",
   "language": "python",
   "name": "python3"
  },
  "language_info": {
   "codemirror_mode": {
    "name": "ipython",
    "version": 3
   },
   "file_extension": ".py",
   "mimetype": "text/x-python",
   "name": "python",
   "nbconvert_exporter": "python",
   "pygments_lexer": "ipython3",
   "version": "3.10.11"
  }
 },
 "nbformat": 4,
 "nbformat_minor": 2
}
